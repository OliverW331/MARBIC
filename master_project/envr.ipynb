{
 "cells": [
  {
   "cell_type": "code",
   "execution_count": 1,
   "id": "99b2b97e",
   "metadata": {},
   "outputs": [],
   "source": [
    "import os\n",
    "os.chdir(\"../captain-project-main\")"
   ]
  },
  {
   "cell_type": "code",
   "execution_count": 2,
   "id": "902da13e",
   "metadata": {},
   "outputs": [
    {
     "name": "stderr",
     "output_type": "stream",
     "text": [
      "Gym has been unmaintained since 2022 and does not support NumPy 2.0 amongst other critical functionality.\n",
      "Please upgrade to Gymnasium, the maintained drop-in replacement of Gym, or contact the authors of your software and request that they upgrade.\n",
      "Users of this version of Gym should be able to simply replace 'import gym' with 'import gymnasium as gym' in the vast majority of cases.\n",
      "See the migration guide at https://gymnasium.farama.org/introduction/migration_guide/ for additional information.\n"
     ]
    }
   ],
   "source": [
    "import captain as cn"
   ]
  },
  {
   "cell_type": "markdown",
   "id": "86fa93e6",
   "metadata": {},
   "source": [
    "# Examine how list_cell looks like"
   ]
  },
  {
   "cell_type": "markdown",
   "id": "960cdd3a",
   "metadata": {},
   "source": [
    "### list_cell is a list of cell objects that store the information like carrying capacity and species_hist which is a list of numbers meaning the abundance of each species. It is created by function `cn.init_cell_objects` and updated by `cn.init_simulated_system`"
   ]
  },
  {
   "cell_type": "code",
   "execution_count": 3,
   "id": "49716d1e",
   "metadata": {},
   "outputs": [],
   "source": [
    "import numpy as np\n",
    "import random\n",
    "import matplotlib.pyplot as plt\n",
    "\n",
    "# matplotlib.use('Agg')\n",
    "import matplotlib.backends.backend_pdf\n",
    "\n",
    "plt.rcParams.update({\"figure.max_open_warning\": 0})\n",
    "import seaborn as sns\n",
    "\n",
    "sns.set()\n",
    "import pickle\n",
    "import sys, os"
   ]
  },
  {
   "cell_type": "code",
   "execution_count": 4,
   "id": "343d905b",
   "metadata": {},
   "outputs": [],
   "source": [
    "seed=0\n",
    "disp_rate=0.3\n",
    "grid_size=50\n",
    "n_species=100\n",
    "cell_capacity=100\n",
    "out_dir=\"./sim_data\"\n",
    "verbose=1"
   ]
  },
  {
   "cell_type": "code",
   "execution_count": 5,
   "id": "fa06ed45",
   "metadata": {},
   "outputs": [],
   "source": [
    "if seed == 0:\n",
    "        rseed = np.random.randint(1000, 9999)\n",
    "else:\n",
    "    rseed = seed\n",
    "np.random.seed(rseed)\n",
    "random.seed(rseed)\n",
    "\n",
    "out_tag = \"\"\n"
   ]
  },
  {
   "cell_type": "code",
   "execution_count": 6,
   "id": "8dacc31f",
   "metadata": {},
   "outputs": [
    {
     "name": "stdout",
     "output_type": "stream",
     "text": [
      "calculating  distances...\n",
      "done.\n"
     ]
    }
   ],
   "source": [
    "\n",
    "# init Area\n",
    "cell_carrying_capacity = cell_capacity  # init (max) individuals per cell\n",
    "total_cells = grid_size ** 2\n",
    "SP_ID = np.arange(n_species)\n",
    "death_at_climate_boundary = 0.25  # if set to 0.5 death probability is 50% at the\n",
    "# climatic boundaries (based on empirical init range)\n",
    "lat_steepness = 0.1  # 5 degrees difference\n",
    "\n",
    "out_tag += \"_d%s_t%s\" % (disp_rate, death_at_climate_boundary)\n",
    "\n",
    "# rel_rank_abundance_distribution = np.sort(np.random.weibull(0.75,n_species))[::-1] +(np.random.uniform(0.2,0.5,n_species))\n",
    "# TRUNCATED WEIBULL\n",
    "# represent the distribution of species abundances\n",
    "#rare species are more common, abundant species are less common\n",
    "# array([8.043, 6.993, 4.789, 4.553, 4.466, 4.034, 4.015, 3.839, 3.704,\n",
    "#        3.66 , 3.576, 2.866, 2.633, 2.481, 2.348, 2.344, 2.313, 2.241,\n",
    "#        2.01 , 1.954, 1.836, 1.797, 1.776, 1.628, 1.524, 1.51 , 1.502,\n",
    "#        1.489, 1.352, 1.346, 1.337, 1.335, 1.325, 1.315, 1.293, 1.29 ,\n",
    "#        1.277, 1.266, 1.189, 1.174, 1.132, 1.126, 1.113, 1.085, 1.056,\n",
    "#        1.021, 1.014, 0.964, 0.91 , 0.866, 0.862, 0.854, 0.852, 0.852,\n",
    "#        0.79 , 0.779, 0.775, 0.76 , 0.713, 0.668, 0.652, 0.651, 0.645,\n",
    "#        0.603, 0.593, 0.587, 0.533, 0.53 , 0.526, 0.483, 0.465, 0.464,\n",
    "#        0.454, 0.44 , 0.433, 0.401, 0.38 , 0.349, 0.347, 0.339, 0.337,\n",
    "#        0.33 , 0.324, 0.307, 0.273, 0.216, 0.202, 0.189, 0.183, 0.182,\n",
    "#        0.166, 0.146, 0.142, 0.14 , 0.139, 0.132, 0.131, 0.128, 0.105,\n",
    "#        0.081])\n",
    "rel_rank_abundance_distribution = np.sort(\n",
    "    np.random.weibull(0.75, n_species + int(0.10 * n_species))\n",
    ")[::-1]\n",
    "rel_rank_abundance_distribution = rel_rank_abundance_distribution[0:n_species]\n",
    "# fatter tail:\n",
    "# rel_rank_abundance_distribution = np.sort(np.random.weibull(0.5,n_species))[::-1]+np.sort(np.random.uniform(0.2,0.5,n_species))\n",
    "\n",
    "# get distances all vs all (3D array)\n",
    "coord = np.linspace(0.5, grid_size - 0.5, grid_size)\n",
    "d_matrix = cn.get_all_to_all_dist_jit(coord, grid_size)\n",
    "# table with cell ID and x/y coordinantes\n",
    "cell_id_n_coord = cn.get_coordinates_jit(coord, grid_size).astype(int)\n",
    "#array([\n",
    "# [0, 0, 0],\n",
    "# [1, 0, 1],\n",
    "# [2, 0, 2],\n",
    "# [3, 1, 0],\n",
    "# [4, 1, 1],\n",
    "# [5, 1, 2],\n",
    "# [6, 2, 0],\n",
    "# [7, 2, 1],\n",
    "# [8, 2, 2]\n",
    "# ])\n",
    "cell_file_pkl = \"pickles/init_cell_%s_c%s_s%s%s.pkl\" % (\n",
    "    rseed,\n",
    "    grid_size,\n",
    "    n_species,\n",
    "    out_tag,\n",
    ")\n",
    "cell_file_pkl = os.path.join(out_dir, cell_file_pkl)\n",
    "\n"
   ]
  },
  {
   "cell_type": "code",
   "execution_count": 7,
   "id": "3d978b04",
   "metadata": {},
   "outputs": [
    {
     "name": "stdout",
     "output_type": "stream",
     "text": [
      "init cells...\n",
      "done.\n"
     ]
    }
   ],
   "source": [
    "# init cell object\n",
    "list_cells = cn.init_cell_objects(\n",
    "    cell_id_n_coord, d_matrix, n_species, cell_carrying_capacity, lat_steepness\n",
    ")\n",
    "# climatic gradient\n",
    "temp_by_cell = np.array([c.temperature for c in list_cells]).reshape(\n",
    "    grid_size, grid_size\n",
    ")\n",
    "\n",
    "# tot number of individuals per species (init)\n",
    "tot_init_individuals = cell_carrying_capacity * total_cells\n",
    "# the chance of each species being selected is proportional to its relative abundance\n",
    "rel_freq_species = rel_rank_abundance_distribution / np.sum(\n",
    "    rel_rank_abundance_distribution\n",
    ")\n",
    "#sample number of total individuals times based on the relative abundance, len(sample_individuals_per_species) = tot_init_individuals\n",
    "sample_individuals_per_species = np.random.choice(\n",
    "    SP_ID, size=tot_init_individuals, p=rel_freq_species, replace=True\n",
    ")\n",
    "# count number of individuals per species, len(n_individuals_per_species) = n_species\n",
    "n_individuals_per_species = np.unique(\n",
    "    sample_individuals_per_species, return_counts=True\n",
    ")\n",
    "\n",
    "# init all species\n",
    "# randomize species order, len(rnd_species_order) = n_species\n",
    "rnd_species_order = np.random.choice(SP_ID, len(SP_ID), replace=False)\n",
    "#if there is available space in the cells\n",
    "aval_space = np.array([c.room_for_one for c in list_cells])\n",
    "#number of individuals per cell\n",
    "n_indviduals_per_cell_1D = np.array([c.n_individuals for c in list_cells])\n"
   ]
  },
  {
   "cell_type": "code",
   "execution_count": 31,
   "id": "a6310fcd",
   "metadata": {},
   "outputs": [
    {
     "data": {
      "text/plain": [
       "(array([ 0,  1,  2,  3,  4,  5,  6,  7,  8,  9, 10, 11, 12, 13, 14, 15, 16,\n",
       "        17, 18, 19, 20, 21, 22, 23, 24, 25, 26, 27, 28, 29, 30, 31, 32, 33,\n",
       "        34, 35, 36, 37, 38, 39, 40, 41, 42, 43, 44, 45, 46, 47, 48, 49, 50,\n",
       "        51, 52, 53, 54, 55, 56, 57, 58, 59, 60, 61, 62, 63, 64, 65, 66, 67,\n",
       "        68, 69, 70, 71, 72, 73, 74, 75, 76, 77, 78, 79, 80, 81, 82, 83, 84,\n",
       "        85, 86, 87, 88, 89, 90, 91, 92, 93, 94, 95, 96, 97, 98, 99]),\n",
       " array([15233, 13148,  9066,  8504,  8414,  7625,  7500,  7148,  7154,\n",
       "         6802,  6692,  5429,  4979,  4643,  4459,  4352,  4223,  4195,\n",
       "         3776,  3661,  3445,  3337,  3273,  3070,  2804,  2853,  2820,\n",
       "         2766,  2591,  2502,  2502,  2438,  2474,  2455,  2349,  2418,\n",
       "         2363,  2360,  2228,  2177,  2120,  2067,  2093,  2102,  1891,\n",
       "         1904,  1902,  1777,  1727,  1631,  1569,  1644,  1587,  1624,\n",
       "         1486,  1425,  1394,  1506,  1325,  1286,  1308,  1164,  1175,\n",
       "         1122,  1135,  1133,   999,   935,   967,   930,   842,   891,\n",
       "          869,   823,   833,   772,   695,   681,   590,   642,   618,\n",
       "          586,   586,   572,   590,   381,   363,   353,   366,   319,\n",
       "          303,   306,   276,   271,   242,   236,   240,   245,   192,\n",
       "          161]))"
      ]
     },
     "execution_count": 31,
     "metadata": {},
     "output_type": "execute_result"
    }
   ],
   "source": [
    "n_individuals_per_species"
   ]
  },
  {
   "cell_type": "code",
   "execution_count": 32,
   "id": "21b4c242",
   "metadata": {},
   "outputs": [
    {
     "data": {
      "text/plain": [
       "100"
      ]
     },
     "execution_count": 32,
     "metadata": {},
     "output_type": "execute_result"
    }
   ],
   "source": [
    "cell_carrying_capacity"
   ]
  },
  {
   "cell_type": "code",
   "execution_count": 33,
   "id": "73c55ae1",
   "metadata": {},
   "outputs": [
    {
     "name": "stdout",
     "output_type": "stream",
     "text": [
      "100/100 init species 50 (1569 ind.) 🐊"
     ]
    }
   ],
   "source": [
    "j = 1\n",
    "for species_id in rnd_species_order:\n",
    "    # get the maximum number of individuals for this species can reach\n",
    "    max_n_ind = n_individuals_per_species[1][species_id]\n",
    "    if verbose:\n",
    "        cn.print_update(\n",
    "            \"%s/%s init species %s (%s ind.) %s\"\n",
    "            % (j, n_species, species_id, max_n_ind, cn.get_nature_emoji())\n",
    "        )\n",
    "    # check if there is available space in the cells, if no 1->0\n",
    "    aval_space[n_indviduals_per_cell_1D == cell_carrying_capacity] = 0\n",
    "    #pick a random cell to start the species\n",
    "    rnd_starting_cell = np.random.choice(\n",
    "        cell_id_n_coord[:, 0], p=aval_space / np.sum(aval_space)\n",
    "    )\n",
    "    n_indviduals_per_cell_1D, n_indviduals_per_cell_sp_i = cn.init_propagate_species(\n",
    "        [rnd_starting_cell],\n",
    "        max_n_ind,\n",
    "        list_cells,\n",
    "        cell_id_n_coord,\n",
    "        cell_carrying_capacity,\n",
    "        species_id,\n",
    "        disp_rate,\n",
    "    )\n",
    "\n",
    "    j += 1"
   ]
  },
  {
   "cell_type": "code",
   "execution_count": null,
   "id": "500f98b0",
   "metadata": {},
   "outputs": [
    {
     "data": {
      "text/plain": [
       "[1199]"
      ]
     },
     "execution_count": 35,
     "metadata": {},
     "output_type": "execute_result"
    }
   ],
   "source": [
    "rnd_starting_cell"
   ]
  },
  {
   "cell_type": "markdown",
   "id": "286b926c",
   "metadata": {},
   "source": [
    "# Examine how disturbance looks like"
   ]
  },
  {
   "cell_type": "code",
   "execution_count": 15,
   "id": "b9a9d71e",
   "metadata": {},
   "outputs": [
    {
     "data": {
      "text/plain": [
       "<function captain.biodivsim.DisturbanceGenerator.get_disturbance(mode, seed=0)>"
      ]
     },
     "execution_count": 15,
     "metadata": {},
     "output_type": "execute_result"
    }
   ],
   "source": [
    "cn.get_disturbance"
   ]
  },
  {
   "cell_type": "code",
   "execution_count": null,
   "id": "24bc8649",
   "metadata": {},
   "outputs": [],
   "source": []
  },
  {
   "cell_type": "markdown",
   "id": "20e6d79e",
   "metadata": {},
   "source": [
    "# Examine how to set up the environment"
   ]
  },
  {
   "cell_type": "code",
   "execution_count": 17,
   "id": "ace54ae2",
   "metadata": {},
   "outputs": [
    {
     "data": {
      "text/plain": [
       "<function captain.biodivinit.SimulatorInit.init_simulated_system(seed=0, disp_rate=0.3, grid_size=50, n_species=100, cell_capacity=100, out_dir='./sim_data', verbose=1)>"
      ]
     },
     "execution_count": 17,
     "metadata": {},
     "output_type": "execute_result"
    }
   ],
   "source": [
    "cn.init_simulated_system"
   ]
  },
  {
   "cell_type": "code",
   "execution_count": 6,
   "id": "53bd4e11",
   "metadata": {},
   "outputs": [
    {
     "name": "stdout",
     "output_type": "stream",
     "text": [
      "calculating  distances...\n",
      "done.\n",
      "init cells...\n",
      "done.\n",
      "25/25 init species 2 (25092 ind.) 🌴\n",
      "System saved in:  ./sim_data/pickles/init_cell_5370_c100_s25_d0.3_t0.25.pkl\n"
     ]
    }
   ],
   "source": [
    "sim_file = cn.init_simulated_system(n_species=25,\n",
    "                                    grid_size=100,\n",
    "                                    cell_capacity=25,\n",
    "                                    out_dir='./sim_data')"
   ]
  },
  {
   "cell_type": "code",
   "execution_count": 7,
   "id": "1bf85451",
   "metadata": {},
   "outputs": [],
   "source": [
    "gridinit = cn.PickleInitializer(sim_file)"
   ]
  },
  {
   "cell_type": "code",
   "execution_count": 8,
   "id": "d5358741",
   "metadata": {},
   "outputs": [],
   "source": [
    "h = gridinit.getInitialState()"
   ]
  },
  {
   "cell_type": "code",
   "execution_count": 9,
   "id": "375ba241",
   "metadata": {},
   "outputs": [
    {
     "data": {
      "text/plain": [
       "(25, 100, 100)"
      ]
     },
     "execution_count": 9,
     "metadata": {},
     "output_type": "execute_result"
    }
   ],
   "source": [
    "#examine the shape\n",
    "h.shape"
   ]
  },
  {
   "cell_type": "code",
   "execution_count": 12,
   "id": "e02927a9",
   "metadata": {},
   "outputs": [
    {
     "data": {
      "text/plain": [
       "(100, 100)"
      ]
     },
     "execution_count": 12,
     "metadata": {},
     "output_type": "execute_result"
    }
   ],
   "source": [
    "np.einsum(\"xyz -> yz\", h).shape"
   ]
  },
  {
   "cell_type": "code",
   "execution_count": 4,
   "id": "ef66e750",
   "metadata": {},
   "outputs": [
    {
     "name": "stdout",
     "output_type": "stream",
     "text": [
      "runnerInput.runMode 0\n",
      "Simulating 25 species tree...\n",
      "re-loading grid...\n",
      "Rnd sens [0.947 0.214 0.511 0.849 0.071]\n",
      "Rnd climate sens [0.416 0.459 0.414 0.607 0.244]\n",
      "Simulating 25 species tree...\n",
      "Rnd sp values:  [0.03  6.337 0.096 0.034 0.014]\n"
     ]
    }
   ],
   "source": [
    "env = cn.simulate_biodiv_env(sim_file,\n",
    "                             dispersal_rate=0.3,\n",
    "                             climate_mode=3,\n",
    "                             disturbance_mode=8)"
   ]
  }
 ],
 "metadata": {
  "kernelspec": {
   "display_name": "captain",
   "language": "python",
   "name": "python3"
  },
  "language_info": {
   "codemirror_mode": {
    "name": "ipython",
    "version": 3
   },
   "file_extension": ".py",
   "mimetype": "text/x-python",
   "name": "python",
   "nbconvert_exporter": "python",
   "pygments_lexer": "ipython3",
   "version": "3.10.14"
  }
 },
 "nbformat": 4,
 "nbformat_minor": 5
}
